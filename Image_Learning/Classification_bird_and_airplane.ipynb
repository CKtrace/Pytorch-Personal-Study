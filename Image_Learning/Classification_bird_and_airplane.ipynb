{
 "cells": [
  {
   "cell_type": "code",
   "execution_count": 1,
   "id": "e90fda67",
   "metadata": {},
   "outputs": [
    {
     "data": {
      "text/plain": [
       "<torch._C.Generator at 0x24d0bdd0770>"
      ]
     },
     "execution_count": 1,
     "metadata": {},
     "output_type": "execute_result"
    }
   ],
   "source": [
    "from torchvision import datasets, transforms\n",
    "\n",
    "%matplotlib inline\n",
    "from matplotlib import pyplot as plt\n",
    "import numpy as np\n",
    "import torch\n",
    "\n",
    "torch.set_printoptions(edgeitems=2, linewidth=75)\n",
    "torch.manual_seed(123)"
   ]
  },
  {
   "cell_type": "markdown",
   "id": "762ec44f",
   "metadata": {},
   "source": [
    "## Preparing Data "
   ]
  },
  {
   "cell_type": "code",
   "execution_count": 2,
   "id": "1a71a532",
   "metadata": {},
   "outputs": [],
   "source": [
    "data_path = \".\\\\CIFAR10\\\\\"\n",
    "\n",
    "cifar10 = datasets.CIFAR10(\n",
    "    data_path, train = True, download = False, \n",
    "    transform = transforms.Compose([\n",
    "        transforms.ToTensor(),\n",
    "        transforms.Normalize((0.4914, 0.4822, 0.4465), (0.2470, 0.2435, 0.2616))\n",
    "    ]))\n",
    "\n",
    "cifar10_val = datasets.CIFAR10(\n",
    "    data_path, train=False, download=False,\n",
    "    transform=transforms.Compose([\n",
    "        transforms.ToTensor(),\n",
    "        transforms.Normalize((0.4915, 0.4823, 0.4468),(0.2470, 0.2435, 0.2616))\n",
    "    ]))"
   ]
  },
  {
   "cell_type": "code",
   "execution_count": 3,
   "id": "a012a97b",
   "metadata": {},
   "outputs": [],
   "source": [
    "label_map = {0: 0, 2: 1}\n",
    "class_names = ['airplane', 'bird']\n",
    "\n",
    "cifar2 = [(img, label_map[label])\n",
    "          for img, label in cifar10 \n",
    "          if label in [0, 2]]\n",
    "\n",
    "cifar2_val = [(img, label_map[label])\n",
    "              for img, label in cifar10_val\n",
    "              if label in [0, 2]]"
   ]
  },
  {
   "cell_type": "markdown",
   "id": "214b4df9",
   "metadata": {},
   "source": [
    "## Model Building"
   ]
  },
  {
   "cell_type": "code",
   "execution_count": 4,
   "id": "eff188d7",
   "metadata": {},
   "outputs": [],
   "source": [
    "import torch.nn as nn"
   ]
  },
  {
   "cell_type": "code",
   "execution_count": 5,
   "id": "cb158e94",
   "metadata": {},
   "outputs": [],
   "source": [
    "n_out = 2\n",
    "\n",
    "model = nn.Sequential(\n",
    "            nn.Linear(3072, 512),\n",
    "            nn.Tanh(),\n",
    "            nn.Linear(512, n_out),\n",
    "            nn.LogSoftmax(dim = 1))"
   ]
  },
  {
   "cell_type": "code",
   "execution_count": 6,
   "id": "d3a25145",
   "metadata": {
    "scrolled": true
   },
   "outputs": [
    {
     "name": "stderr",
     "output_type": "stream",
     "text": [
      "Clipping input data to the valid range for imshow with RGB data ([0..1] for floats or [0..255] for integers).\n"
     ]
    },
    {
     "data": {
      "text/plain": [
       "<matplotlib.image.AxesImage at 0x2ac93a30ee0>"
      ]
     },
     "execution_count": 6,
     "metadata": {},
     "output_type": "execute_result"
    },
    {
     "data": {
      "image/png": "[encoded data removed]",
      "text/plain": [
       "<Figure size 640x480 with 1 Axes>"
      ]
     },
     "metadata": {},
     "output_type": "display_data"
    }
   ],
   "source": [
    "img, _ = cifar2[0]\n",
    "\n",
    "plt.imshow(img.permute(1, 2, 0))"
   ]
  },
  {
   "cell_type": "code",
   "execution_count": 7,
   "id": "8bf117c2",
   "metadata": {},
   "outputs": [
    {
     "data": {
      "text/plain": [
       "(tensor([[ 0.6143, -0.3224,  ..., -1.3170, -1.0472]]), torch.Size([1, 3072]))"
      ]
     },
     "execution_count": 7,
     "metadata": {},
     "output_type": "execute_result"
    }
   ],
   "source": [
    "img_batch = img.view(-1).unsqueeze(0)\n",
    "img_batch, img_batch.shape"
   ]
  },
  {
   "cell_type": "code",
   "execution_count": 8,
   "id": "687185e9",
   "metadata": {},
   "outputs": [
    {
     "data": {
      "text/plain": [
       "tensor([[-0.9942, -0.4621]], grad_fn=<LogSoftmaxBackward0>)"
      ]
     },
     "execution_count": 8,
     "metadata": {},
     "output_type": "execute_result"
    }
   ],
   "source": [
    "out = model(img_batch)\n",
    "out"
   ]
  },
  {
   "cell_type": "code",
   "execution_count": 9,
   "id": "f17b0261",
   "metadata": {},
   "outputs": [
    {
     "data": {
      "text/plain": [
       "tensor([1])"
      ]
     },
     "execution_count": 9,
     "metadata": {},
     "output_type": "execute_result"
    }
   ],
   "source": [
    "_, index = torch.max(out, dim=1)\n",
    "\n",
    "index"
   ]
  },
  {
   "cell_type": "code",
   "execution_count": 10,
   "id": "15602a9e",
   "metadata": {},
   "outputs": [],
   "source": [
    "loss = nn.NLLLoss()"
   ]
  },
  {
   "cell_type": "code",
   "execution_count": 11,
   "id": "0472b95b",
   "metadata": {},
   "outputs": [
    {
     "data": {
      "text/plain": [
       "tensor(0.4621, grad_fn=<NllLossBackward0>)"
      ]
     },
     "execution_count": 11,
     "metadata": {},
     "output_type": "execute_result"
    }
   ],
   "source": [
    "img, label = cifar2[0]\n",
    "\n",
    "out = model(img.view(-1).unsqueeze(0))\n",
    "\n",
    "loss(out, torch.tensor([label]))"
   ]
  },
  {
   "cell_type": "markdown",
   "id": "21c34ad9",
   "metadata": {},
   "source": [
    "## Classifier Learning -> Using ALL Data"
   ]
  },
  {
   "cell_type": "code",
   "execution_count": 13,
   "id": "fb62ba7e",
   "metadata": {
    "scrolled": true
   },
   "outputs": [
    {
     "name": "stdout",
     "output_type": "stream",
     "text": [
      "Epoch: 0 Loss: 6.284517765045166\n",
      "Epoch: 1 Loss: 5.426993370056152\n",
      "Epoch: 2 Loss: 8.073309898376465\n",
      "Epoch: 3 Loss: 4.434668064117432\n",
      "Epoch: 4 Loss: 8.861948013305664\n",
      "Epoch: 5 Loss: 9.270270347595215\n",
      "Epoch: 6 Loss: 3.494992256164551\n",
      "Epoch: 7 Loss: 10.184905052185059\n",
      "Epoch: 8 Loss: 5.14982271194458\n",
      "Epoch: 9 Loss: 6.442326068878174\n",
      "Epoch: 10 Loss: 4.864918231964111\n",
      "Epoch: 11 Loss: 0.4014187455177307\n",
      "Epoch: 12 Loss: 5.905603408813477\n",
      "Epoch: 13 Loss: 9.196324348449707\n",
      "Epoch: 14 Loss: 6.336201190948486\n",
      "Epoch: 15 Loss: 7.3022918701171875\n",
      "Epoch: 16 Loss: 1.2945443391799927\n",
      "Epoch: 17 Loss: 2.1799919605255127\n",
      "Epoch: 18 Loss: 2.185661792755127\n",
      "Epoch: 19 Loss: 6.984148025512695\n",
      "Epoch: 20 Loss: 6.187165260314941\n",
      "Epoch: 21 Loss: 10.507281303405762\n",
      "Epoch: 22 Loss: 15.746715545654297\n",
      "Epoch: 23 Loss: 7.049489974975586\n",
      "Epoch: 24 Loss: 8.473156929016113\n",
      "Epoch: 25 Loss: 9.45479965209961\n",
      "Epoch: 26 Loss: 13.265739440917969\n",
      "Epoch: 27 Loss: 10.392166137695312\n",
      "Epoch: 28 Loss: 0.5355349183082581\n",
      "Epoch: 29 Loss: 6.6704583168029785\n",
      "Epoch: 30 Loss: 6.066096782684326\n",
      "Epoch: 31 Loss: 18.17230224609375\n",
      "Epoch: 32 Loss: 0.1610712707042694\n",
      "Epoch: 33 Loss: 8.477615356445312\n",
      "Epoch: 34 Loss: 0.0840744823217392\n",
      "Epoch: 35 Loss: 10.338314056396484\n",
      "Epoch: 36 Loss: 1.7773380279541016\n",
      "Epoch: 37 Loss: 4.734446048736572\n",
      "Epoch: 38 Loss: 0.007600556127727032\n",
      "Epoch: 39 Loss: 3.6702353954315186\n",
      "Epoch: 40 Loss: 0.0003195490571670234\n",
      "Epoch: 41 Loss: 7.906904697418213\n",
      "Epoch: 42 Loss: 0.28188201785087585\n",
      "Epoch: 43 Loss: 9.94827651977539\n",
      "Epoch: 44 Loss: 8.227066040039062\n",
      "Epoch: 45 Loss: 3.9318106174468994\n",
      "Epoch: 46 Loss: 2.6863059997558594\n",
      "Epoch: 47 Loss: 1.5486133098602295\n",
      "Epoch: 48 Loss: 0.8398675322532654\n",
      "Epoch: 49 Loss: 3.167318344116211\n",
      "Epoch: 50 Loss: 6.687758922576904\n",
      "Epoch: 51 Loss: 4.619699478149414\n",
      "Epoch: 52 Loss: 0.08381316810846329\n",
      "Epoch: 53 Loss: 2.9780049324035645\n",
      "Epoch: 54 Loss: 1.4196033477783203\n",
      "Epoch: 55 Loss: 1.5054340362548828\n",
      "Epoch: 56 Loss: 4.302332401275635\n",
      "Epoch: 57 Loss: 9.041437149047852\n",
      "Epoch: 58 Loss: 13.956206321716309\n",
      "Epoch: 59 Loss: 4.446883201599121\n",
      "Epoch: 60 Loss: 9.004181861877441\n",
      "Epoch: 61 Loss: 6.619685173034668\n",
      "Epoch: 62 Loss: 0.31676986813545227\n",
      "Epoch: 63 Loss: 18.76221466064453\n",
      "Epoch: 64 Loss: 11.857307434082031\n",
      "Epoch: 65 Loss: 16.70596694946289\n",
      "Epoch: 66 Loss: 6.469923973083496\n",
      "Epoch: 67 Loss: 4.974926471710205\n",
      "Epoch: 68 Loss: 10.39442253112793\n",
      "Epoch: 69 Loss: 1.7354635000228882\n",
      "Epoch: 70 Loss: 11.150436401367188\n",
      "Epoch: 71 Loss: 9.522067070007324\n",
      "Epoch: 72 Loss: 0.036708053201436996\n",
      "Epoch: 73 Loss: 0.1542346328496933\n",
      "Epoch: 74 Loss: 11.817764282226562\n",
      "Epoch: 75 Loss: 5.9024577140808105\n",
      "Epoch: 76 Loss: 9.707818984985352\n",
      "Epoch: 77 Loss: 8.453751564025879\n",
      "Epoch: 78 Loss: 3.65781569480896\n",
      "Epoch: 79 Loss: 10.078779220581055\n",
      "Epoch: 80 Loss: 8.076541900634766\n",
      "Epoch: 81 Loss: 0.4295106530189514\n",
      "Epoch: 82 Loss: 2.228295087814331\n",
      "Epoch: 83 Loss: 0.04393824189901352\n",
      "Epoch: 84 Loss: 6.6794939041137695\n",
      "Epoch: 85 Loss: 3.5110151767730713\n",
      "Epoch: 86 Loss: 5.560592174530029\n",
      "Epoch: 87 Loss: 11.307347297668457\n",
      "Epoch: 88 Loss: 0.6798959374427795\n",
      "Epoch: 89 Loss: 15.663034439086914\n",
      "Epoch: 90 Loss: 16.339675903320312\n",
      "Epoch: 91 Loss: 8.644230842590332\n",
      "Epoch: 92 Loss: 6.066412448883057\n",
      "Epoch: 93 Loss: 4.6518683433532715\n",
      "Epoch: 94 Loss: 13.063394546508789\n",
      "Epoch: 95 Loss: 6.445634841918945\n",
      "Epoch: 96 Loss: 14.706233024597168\n",
      "Epoch: 97 Loss: 11.059097290039062\n",
      "Epoch: 98 Loss: 14.497553825378418\n",
      "Epoch: 99 Loss: 7.7964582443237305\n"
     ]
    }
   ],
   "source": [
    "import torch\n",
    "import torch.nn as nn\n",
    "import torch.optim as optim\n",
    "\n",
    "is_cuda = torch.cuda.is_available()\n",
    "\n",
    "\n",
    "model = nn.Sequential(\n",
    "            nn.Linear(3072, 512),\n",
    "            nn.Tanh(),\n",
    "            nn.Linear(512, 2),\n",
    "            nn.LogSoftmax(dim = 1))\n",
    "\n",
    "learning_rate = 1e-2\n",
    "\n",
    "optimizer = optim.SGD(model.parameters(), lr = learning_rate)\n",
    "loss_fn = nn.NLLLoss()\n",
    "\n",
    "n_epochs = 100\n",
    "\n",
    "for epoch in range(n_epochs):\n",
    "    for img, label in cifar2:\n",
    "        out = model(img.view(-1).unsqueeze(0))\n",
    "        loss = loss_fn(out, torch.tensor([label]))\n",
    "        \n",
    "        optimizer.zero_grad()\n",
    "        loss.backward()\n",
    "        optimizer.step()\n",
    "    \n",
    "    print(f\"Epoch: {epoch} Loss: {float(loss)}\")"
   ]
  },
  {
   "cell_type": "markdown",
   "id": "07c9efc9",
   "metadata": {},
   "source": [
    "## Mini Batch Loader"
   ]
  },
  {
   "cell_type": "code",
   "execution_count": 17,
   "id": "8574f56b",
   "metadata": {
    "scrolled": true
   },
   "outputs": [
    {
     "name": "stdout",
     "output_type": "stream",
     "text": [
      "Epoch: 0 Loss: 0.4508588910102844\n",
      "Epoch: 1 Loss: 0.40345385670661926\n",
      "Epoch: 2 Loss: 0.4343932271003723\n",
      "Epoch: 3 Loss: 0.22966347634792328\n",
      "Epoch: 4 Loss: 0.43694308400154114\n",
      "Epoch: 5 Loss: 0.5319609642028809\n",
      "Epoch: 6 Loss: 0.6383283138275146\n",
      "Epoch: 7 Loss: 0.3932562470436096\n",
      "Epoch: 8 Loss: 0.3403806686401367\n",
      "Epoch: 9 Loss: 0.22322754561901093\n",
      "Epoch: 10 Loss: 0.3455077111721039\n",
      "Epoch: 11 Loss: 0.2935001254081726\n",
      "Epoch: 12 Loss: 0.45567044615745544\n",
      "Epoch: 13 Loss: 0.18465575575828552\n",
      "Epoch: 14 Loss: 0.399518221616745\n",
      "Epoch: 15 Loss: 0.5175514817237854\n",
      "Epoch: 16 Loss: 0.27199164032936096\n",
      "Epoch: 17 Loss: 0.14636452496051788\n",
      "Epoch: 18 Loss: 0.40385276079177856\n",
      "Epoch: 19 Loss: 0.37309834361076355\n",
      "Epoch: 20 Loss: 0.4195271134376526\n",
      "Epoch: 21 Loss: 0.5049251317977905\n",
      "Epoch: 22 Loss: 0.18410471081733704\n",
      "Epoch: 23 Loss: 0.3038555681705475\n",
      "Epoch: 24 Loss: 0.30665141344070435\n",
      "Epoch: 25 Loss: 0.48862800002098083\n",
      "Epoch: 26 Loss: 0.1370086967945099\n",
      "Epoch: 27 Loss: 0.23324072360992432\n",
      "Epoch: 28 Loss: 0.2573772072792053\n",
      "Epoch: 29 Loss: 0.4344337284564972\n",
      "Epoch: 30 Loss: 0.15939010679721832\n",
      "Epoch: 31 Loss: 0.17946624755859375\n",
      "Epoch: 32 Loss: 0.12080550193786621\n",
      "Epoch: 33 Loss: 0.1948184370994568\n",
      "Epoch: 34 Loss: 0.15837708115577698\n",
      "Epoch: 35 Loss: 0.11038468778133392\n",
      "Epoch: 36 Loss: 0.11853765696287155\n",
      "Epoch: 37 Loss: 0.12591668963432312\n",
      "Epoch: 38 Loss: 0.07145991176366806\n",
      "Epoch: 39 Loss: 0.12234389036893845\n",
      "Epoch: 40 Loss: 0.1221659928560257\n",
      "Epoch: 41 Loss: 0.12515421211719513\n",
      "Epoch: 42 Loss: 0.15025202929973602\n",
      "Epoch: 43 Loss: 0.12615753710269928\n",
      "Epoch: 44 Loss: 0.03434385359287262\n",
      "Epoch: 45 Loss: 0.37068477272987366\n",
      "Epoch: 46 Loss: 0.03123166784644127\n",
      "Epoch: 47 Loss: 0.16984228789806366\n",
      "Epoch: 48 Loss: 0.010337255895137787\n",
      "Epoch: 49 Loss: 0.020896580070257187\n",
      "Epoch: 50 Loss: 0.21953533589839935\n",
      "Epoch: 51 Loss: 0.06886738538742065\n",
      "Epoch: 52 Loss: 0.04984911531209946\n",
      "Epoch: 53 Loss: 0.1003485843539238\n",
      "Epoch: 54 Loss: 0.04337090253829956\n",
      "Epoch: 55 Loss: 0.04577309265732765\n",
      "Epoch: 56 Loss: 0.06642348319292068\n",
      "Epoch: 57 Loss: 0.14731718599796295\n",
      "Epoch: 58 Loss: 0.08196306228637695\n",
      "Epoch: 59 Loss: 0.037739623337984085\n",
      "Epoch: 60 Loss: 0.048213232308626175\n",
      "Epoch: 61 Loss: 0.02873287908732891\n",
      "Epoch: 62 Loss: 0.029272640123963356\n",
      "Epoch: 63 Loss: 0.03771286830306053\n",
      "Epoch: 64 Loss: 0.0458102747797966\n",
      "Epoch: 65 Loss: 0.022738385945558548\n",
      "Epoch: 66 Loss: 0.06102587655186653\n",
      "Epoch: 67 Loss: 0.03305637091398239\n",
      "Epoch: 68 Loss: 0.049786511808633804\n",
      "Epoch: 69 Loss: 0.03491807356476784\n",
      "Epoch: 70 Loss: 0.022064194083213806\n",
      "Epoch: 71 Loss: 0.02302807942032814\n",
      "Epoch: 72 Loss: 0.03562856838107109\n",
      "Epoch: 73 Loss: 0.01654799096286297\n",
      "Epoch: 74 Loss: 0.013426754623651505\n",
      "Epoch: 75 Loss: 0.03508026525378227\n",
      "Epoch: 76 Loss: 0.015702564269304276\n",
      "Epoch: 77 Loss: 0.06042099744081497\n",
      "Epoch: 78 Loss: 0.052081964910030365\n",
      "Epoch: 79 Loss: 0.016537997871637344\n",
      "Epoch: 80 Loss: 0.011045463383197784\n",
      "Epoch: 81 Loss: 0.01714700646698475\n",
      "Epoch: 82 Loss: 0.015040012076497078\n",
      "Epoch: 83 Loss: 0.009443093091249466\n",
      "Epoch: 84 Loss: 0.0063926056027412415\n",
      "Epoch: 85 Loss: 0.013278341852128506\n",
      "Epoch: 86 Loss: 0.030500533059239388\n",
      "Epoch: 87 Loss: 0.02128320187330246\n",
      "Epoch: 88 Loss: 0.007978863082826138\n",
      "Epoch: 89 Loss: 0.021484456956386566\n",
      "Epoch: 90 Loss: 0.00924055278301239\n",
      "Epoch: 91 Loss: 0.013928238302469254\n",
      "Epoch: 92 Loss: 0.012482333928346634\n",
      "Epoch: 93 Loss: 0.008406712673604488\n",
      "Epoch: 94 Loss: 0.01030693855136633\n",
      "Epoch: 95 Loss: 0.018915025517344475\n",
      "Epoch: 96 Loss: 0.12496229261159897\n",
      "Epoch: 97 Loss: 0.00948491320014\n",
      "Epoch: 98 Loss: 0.012699460610747337\n",
      "Epoch: 99 Loss: 0.013059981167316437\n"
     ]
    }
   ],
   "source": [
    "import torch\n",
    "import torch.nn as nn\n",
    "import torch.optim as optim\n",
    "\n",
    "train_loader = torch.utils.data.DataLoader(cifar2, batch_size = 64, shuffle = True)    # (64, 3, 32, 32)\n",
    "\n",
    "model = nn.Sequential(\n",
    "            nn.Linear(3072, 512),\n",
    "            nn.Tanh(),\n",
    "            nn.Linear(512, 2),\n",
    "            nn.LogSoftmax(dim = 1))\n",
    "\n",
    "learning_rate = 1e-2\n",
    "\n",
    "optimizer = optim.SGD(model.parameters(), lr = learning_rate)\n",
    "\n",
    "loss_fn = nn.NLLLoss()\n",
    "\n",
    "n_epochs = 100\n",
    "\n",
    "for epoch in range(n_epochs):\n",
    "    for imgs, labels in train_loader:\n",
    "        batch_size = imgs.shape[0]\n",
    "        outputs = model(imgs.view(batch_size, -1))\n",
    "        loss = loss_fn(outputs, labels)\n",
    "        \n",
    "        optimizer.zero_grad()\n",
    "        loss.backward()\n",
    "        optimizer.step()\n",
    "                       \n",
    "    print(f\"Epoch: {epoch} Loss: {float(loss)}\")"
   ]
  },
  {
   "cell_type": "code",
   "execution_count": 18,
   "id": "e49aeb33",
   "metadata": {},
   "outputs": [
    {
     "name": "stdout",
     "output_type": "stream",
     "text": [
      "Accuracy : 0.8215\n"
     ]
    }
   ],
   "source": [
    "val_loader = torch.utils.data.DataLoader(cifar2_val, batch_size = 64, shuffle = True)    # (64, 3, 32, 32)\n",
    "\n",
    "correct = 0\n",
    "total = 0\n",
    "\n",
    "with torch.no_grad():\n",
    "    for imgs, labels in val_loader:\n",
    "        batch_size = imgs.shape[0]\n",
    "        outputs = model(imgs.view(batch_size, -1))\n",
    "        \n",
    "        _, predicted = torch.max(outputs, dim=1)\n",
    "        total += labels.shape[0]\n",
    "        correct += int((predicted == labels).sum())\n",
    "\n",
    "print(f\"Accuracy : {float(correct / total)}\")"
   ]
  },
  {
   "cell_type": "markdown",
   "id": "1dbfbad3",
   "metadata": {},
   "source": [
    "## Model Parameter Counts"
   ]
  },
  {
   "cell_type": "code",
   "execution_count": 20,
   "id": "0421734d",
   "metadata": {},
   "outputs": [
    {
     "data": {
      "text/plain": [
       "(1574402, [1572864, 512, 1024, 2])"
      ]
     },
     "execution_count": 20,
     "metadata": {},
     "output_type": "execute_result"
    }
   ],
   "source": [
    "numel_list = [p.numel() for p in model.parameters() if p.requires_grad == True]\n",
    "sum(numel_list), numel_list"
   ]
  },
  {
   "cell_type": "code",
   "execution_count": 21,
   "id": "89d2f7e7",
   "metadata": {
    "scrolled": true
   },
   "outputs": [
    {
     "data": {
      "text/plain": [
       "(torch.Size([1024, 3072]), torch.Size([1024]))"
      ]
     },
     "execution_count": 21,
     "metadata": {},
     "output_type": "execute_result"
    }
   ],
   "source": [
    "linear = nn.Linear(3072, 1024)\n",
    "linear.weight.shape, linear.bias.shape"
   ]
  },
  {
   "cell_type": "markdown",
   "id": "b89f2c52",
   "metadata": {},
   "source": [
    "## Increase Mini Batch Size "
   ]
  },
  {
   "cell_type": "code",
   "execution_count": 30,
   "id": "ec2ce4a8",
   "metadata": {
    "scrolled": true
   },
   "outputs": [
    {
     "name": "stdout",
     "output_type": "stream",
     "text": [
      "<torch.utils.data.dataloader.DataLoader object at 0x0000024D2AE3F400>\n",
      "Epoch: 0 Loss: 0.44410067796707153\n",
      "Epoch: 1 Loss: 0.5403022766113281\n",
      "Epoch: 2 Loss: 0.4614195227622986\n",
      "Epoch: 3 Loss: 0.4297323524951935\n",
      "Epoch: 4 Loss: 0.5954849720001221\n",
      "Epoch: 5 Loss: 0.30401524901390076\n",
      "Epoch: 6 Loss: 0.5017366409301758\n",
      "Epoch: 7 Loss: 0.30500882863998413\n",
      "Epoch: 8 Loss: 0.2971315383911133\n",
      "Epoch: 9 Loss: 0.38058894872665405\n",
      "Epoch: 10 Loss: 0.24604953825473785\n",
      "Epoch: 11 Loss: 0.29362723231315613\n",
      "Epoch: 12 Loss: 0.20171567797660828\n",
      "Epoch: 13 Loss: 0.39221078157424927\n",
      "Epoch: 14 Loss: 0.2017107754945755\n",
      "Epoch: 15 Loss: 0.46517279744148254\n",
      "Epoch: 16 Loss: 0.4052429497241974\n",
      "Epoch: 17 Loss: 0.2602967917919159\n",
      "Epoch: 18 Loss: 0.40013521909713745\n",
      "Epoch: 19 Loss: 0.5454908013343811\n",
      "Epoch: 20 Loss: 0.41754618287086487\n",
      "Epoch: 21 Loss: 0.348655641078949\n",
      "Epoch: 22 Loss: 0.4761049449443817\n",
      "Epoch: 23 Loss: 0.42005205154418945\n",
      "Epoch: 24 Loss: 0.2798437774181366\n",
      "Epoch: 25 Loss: 0.3007623851299286\n",
      "Epoch: 26 Loss: 0.3942333459854126\n",
      "Epoch: 27 Loss: 0.24551281332969666\n",
      "Epoch: 28 Loss: 0.23587369918823242\n",
      "Epoch: 29 Loss: 0.23964495956897736\n",
      "Epoch: 30 Loss: 0.3320865035057068\n",
      "Epoch: 31 Loss: 0.34282514452934265\n",
      "Epoch: 32 Loss: 0.08625655621290207\n",
      "Epoch: 33 Loss: 0.1641676425933838\n",
      "Epoch: 34 Loss: 0.35091572999954224\n",
      "Epoch: 35 Loss: 0.19795441627502441\n",
      "Epoch: 36 Loss: 0.2399805188179016\n",
      "Epoch: 37 Loss: 0.21422523260116577\n",
      "Epoch: 38 Loss: 0.572525143623352\n",
      "Epoch: 39 Loss: 0.24240554869174957\n",
      "Epoch: 40 Loss: 0.17199695110321045\n",
      "Epoch: 41 Loss: 0.27039608359336853\n",
      "Epoch: 42 Loss: 0.11444275081157684\n",
      "Epoch: 43 Loss: 0.25902533531188965\n",
      "Epoch: 44 Loss: 0.2499353587627411\n",
      "Epoch: 45 Loss: 0.09168779850006104\n",
      "Epoch: 46 Loss: 0.2573905289173126\n",
      "Epoch: 47 Loss: 0.42416495084762573\n",
      "Epoch: 48 Loss: 0.09292599558830261\n",
      "Epoch: 49 Loss: 0.1702364832162857\n",
      "Epoch: 50 Loss: 0.36337870359420776\n",
      "Epoch: 51 Loss: 0.06055239588022232\n",
      "Epoch: 52 Loss: 0.2641196548938751\n",
      "Epoch: 53 Loss: 0.07911539077758789\n",
      "Epoch: 54 Loss: 0.07810648530721664\n",
      "Epoch: 55 Loss: 0.08469795435667038\n",
      "Epoch: 56 Loss: 0.2880586087703705\n",
      "Epoch: 57 Loss: 0.09089527279138565\n",
      "Epoch: 58 Loss: 0.41571688652038574\n",
      "Epoch: 59 Loss: 0.12731251120567322\n",
      "Epoch: 60 Loss: 0.11694538593292236\n",
      "Epoch: 61 Loss: 0.2148365080356598\n",
      "Epoch: 62 Loss: 0.34338048100471497\n",
      "Epoch: 63 Loss: 0.28902480006217957\n",
      "Epoch: 64 Loss: 0.31212717294692993\n",
      "Epoch: 65 Loss: 0.2973043918609619\n",
      "Epoch: 66 Loss: 0.1401289701461792\n",
      "Epoch: 67 Loss: 0.17782363295555115\n",
      "Epoch: 68 Loss: 0.13931432366371155\n",
      "Epoch: 69 Loss: 0.16233408451080322\n",
      "Epoch: 70 Loss: 0.1597735732793808\n",
      "Epoch: 71 Loss: 0.1958921253681183\n",
      "Epoch: 72 Loss: 0.13445232808589935\n",
      "Epoch: 73 Loss: 0.13958291709423065\n",
      "Epoch: 74 Loss: 0.09195858240127563\n",
      "Epoch: 75 Loss: 0.07699219882488251\n",
      "Epoch: 76 Loss: 0.08023550361394882\n",
      "Epoch: 77 Loss: 0.051008351147174835\n",
      "Epoch: 78 Loss: 0.20186862349510193\n",
      "Epoch: 79 Loss: 0.04758213087916374\n",
      "Epoch: 80 Loss: 0.024406801909208298\n",
      "Epoch: 81 Loss: 0.06787706911563873\n",
      "Epoch: 82 Loss: 0.054578747600317\n",
      "Epoch: 83 Loss: 0.04813075438141823\n",
      "Epoch: 84 Loss: 0.1145855262875557\n",
      "Epoch: 85 Loss: 0.12799334526062012\n",
      "Epoch: 86 Loss: 0.06712830066680908\n",
      "Epoch: 87 Loss: 0.17009802162647247\n",
      "Epoch: 88 Loss: 0.10139558464288712\n",
      "Epoch: 89 Loss: 0.060294702649116516\n",
      "Epoch: 90 Loss: 0.32788270711898804\n",
      "Epoch: 91 Loss: 0.0472918301820755\n",
      "Epoch: 92 Loss: 0.053337667137384415\n",
      "Epoch: 93 Loss: 0.09717102348804474\n",
      "Epoch: 94 Loss: 0.031188908964395523\n",
      "Epoch: 95 Loss: 0.08561788499355316\n",
      "Epoch: 96 Loss: 0.03762339428067207\n",
      "Epoch: 97 Loss: 0.01591484062373638\n",
      "Epoch: 98 Loss: 0.06523597985506058\n",
      "Epoch: 99 Loss: 0.06386066228151321\n"
     ]
    }
   ],
   "source": [
    "import torch\n",
    "import torch.nn as nn\n",
    "import torch.optim as optim\n",
    "\n",
    "train_loader = torch.utils.data.DataLoader(cifar2, batch_size = 128, shuffle = True)    # (128, 3, 32, 32)\n",
    "\n",
    "print(train_loader)\n",
    "\n",
    "model = nn.Sequential(\n",
    "            nn.Linear(3072, 512),\n",
    "            nn.Tanh(),\n",
    "            nn.Linear(512, 2),\n",
    "            nn.LogSoftmax(dim = 1))\n",
    "\n",
    "learning_rate = 1e-2\n",
    "\n",
    "optimizer = optim.SGD(model.parameters(), lr = learning_rate)\n",
    "\n",
    "loss_fn = nn.NLLLoss()\n",
    "\n",
    "n_epochs = 100\n",
    "\n",
    "for epoch in range(n_epochs):\n",
    "    for imgs, labels in train_loader:\n",
    "        batch_size = imgs.shape[0]\n",
    "        outputs = model(imgs.view(batch_size, -1))\n",
    "        loss = loss_fn(outputs, labels)\n",
    "        \n",
    "        optimizer.zero_grad()\n",
    "        loss.backward()\n",
    "        optimizer.step()\n",
    "                       \n",
    "    print(f\"Epoch: {epoch} Loss: {float(loss)}\")"
   ]
  },
  {
   "cell_type": "code",
   "execution_count": 31,
   "id": "78700dc1",
   "metadata": {
    "scrolled": true
   },
   "outputs": [
    {
     "name": "stdout",
     "output_type": "stream",
     "text": [
      "Accuracy : 0.818\n"
     ]
    }
   ],
   "source": [
    "val_loader = torch.utils.data.DataLoader(cifar2_val, batch_size = 128, shuffle = True)    # (128, 3, 32, 32)\n",
    "\n",
    "correct = 0\n",
    "total = 0\n",
    "\n",
    "with torch.no_grad():\n",
    "    for imgs, labels in val_loader:\n",
    "        batch_size = imgs.shape[0]\n",
    "        outputs = model(imgs.view(batch_size, -1))\n",
    "        \n",
    "        _, predicted = torch.max(outputs, dim=1)\n",
    "        total += labels.shape[0]\n",
    "        correct += int((predicted == labels).sum())\n",
    "\n",
    "print(f\"Accuracy : {float(correct / total)}\")"
   ]
  },
  {
   "cell_type": "code",
   "execution_count": 32,
   "id": "a29147ab",
   "metadata": {},
   "outputs": [
    {
     "data": {
      "text/plain": [
       "(1574402, [1572864, 512, 1024, 2])"
      ]
     },
     "execution_count": 32,
     "metadata": {},
     "output_type": "execute_result"
    }
   ],
   "source": [
    "numel_list = [p.numel() for p in model.parameters() if p.requires_grad == True]\n",
    "sum(numel_list), numel_list"
   ]
  }
 ],
 "metadata": {
  "kernelspec": {
   "display_name": "Python 3 (ipykernel)",
   "language": "python",
   "name": "python3"
  },
  "language_info": {
   "codemirror_mode": {
    "name": "ipython",
    "version": 3
   },
   "file_extension": ".py",
   "mimetype": "text/x-python",
   "name": "python",
   "nbconvert_exporter": "python",
   "pygments_lexer": "ipython3",
   "version": "3.8.5"
  }
 },
 "nbformat": 4,
 "nbformat_minor": 5
}
