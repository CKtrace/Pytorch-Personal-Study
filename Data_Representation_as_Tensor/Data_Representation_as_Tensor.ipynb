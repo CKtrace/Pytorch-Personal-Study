{
 "cells": [
  {
   "cell_type": "code",
   "execution_count": 1,
   "id": "2aa69556",
   "metadata": {},
   "outputs": [],
   "source": [
    "import torch\n",
    "import imageio.v2 as imageio\n",
    "from PIL import Image"
   ]
  },
  {
   "cell_type": "code",
   "execution_count": 2,
   "id": "6bac1ccc",
   "metadata": {},
   "outputs": [],
   "source": [
    "img1 = Image.open('.\\\\cat & dog\\\\cat_1.jpg')\n",
    "img2 = Image.open('.\\\\cat & dog\\\\cat_2.jpg')\n",
    "img3 = Image.open('.\\\\cat & dog\\\\my_puppy.jpg')\n",
    "\n",
    "img_resize1 = img1.resize((256, 256))\n",
    "img_resize2 = img2.resize((256, 256))\n",
    "img_resize3 = img3.resize((256, 256))\n",
    "\n",
    "img_resize1.save('.\\\\cat & dog\\\\cat_1.jpg')\n",
    "img_resize2.save('.\\\\cat & dog\\\\cat_2.jpg')\n",
    "img_resize3.save('.\\\\cat & dog\\\\my_puppy.jpg')"
   ]
  },
  {
   "cell_type": "code",
   "execution_count": 3,
   "id": "6377d264",
   "metadata": {},
   "outputs": [
    {
     "data": {
      "text/plain": [
       "(256, 256, 3)"
      ]
     },
     "execution_count": 3,
     "metadata": {},
     "output_type": "execute_result"
    }
   ],
   "source": [
    "img_arr = imageio.imread('.\\\\cat & dog\\\\my_puppy.jpg')\n",
    "img_arr.shape"
   ]
  },
  {
   "cell_type": "code",
   "execution_count": 4,
   "id": "3cd5ad49",
   "metadata": {},
   "outputs": [
    {
     "data": {
      "text/plain": [
       "torch.Size([3, 256, 256])"
      ]
     },
     "execution_count": 4,
     "metadata": {},
     "output_type": "execute_result"
    }
   ],
   "source": [
    "img = torch.from_numpy(img_arr)\n",
    "out = img.permute(2, 0, 1)\n",
    "out.shape"
   ]
  },
  {
   "cell_type": "code",
   "execution_count": 5,
   "id": "32a72d0d",
   "metadata": {
    "scrolled": true
   },
   "outputs": [
    {
     "data": {
      "text/plain": [
       "(torch.Size([3, 3, 256, 256]), torch.uint8)"
      ]
     },
     "execution_count": 5,
     "metadata": {},
     "output_type": "execute_result"
    }
   ],
   "source": [
    "batch_size = 3\n",
    "batch = torch.zeros(batch_size, 3, 256, 256, dtype=torch.uint8)\n",
    "\n",
    "batch.shape, batch.dtype"
   ]
  },
  {
   "cell_type": "code",
   "execution_count": 6,
   "id": "c915ab3b",
   "metadata": {},
   "outputs": [],
   "source": [
    "import os\n",
    "\n",
    "data_dir = \".\\\\cat & dog\\\\\"\n",
    "filenames = [name for name in os.listdir(data_dir)\n",
    "            if os.path.splitext(name)[-1] == '.jpg']\n",
    "\n",
    "for i, filename in enumerate(filenames):\n",
    "    img_arr = imageio.imread(os.path.join(data_dir, filename))\n",
    "    img_t = torch.from_numpy(img_arr)\n",
    "    img_t = img_t.permute(2, 0, 1)\n",
    "    img_t = img_t[:3]\n",
    "    batch[i] = img_t"
   ]
  },
  {
   "cell_type": "code",
   "execution_count": 7,
   "id": "51c5eceb",
   "metadata": {
    "scrolled": true
   },
   "outputs": [
    {
     "name": "stdout",
     "output_type": "stream",
     "text": [
      "tensor([[[[100., 107., 112.,  ..., 192., 195., 194.],\n",
      "          [105., 109., 112.,  ..., 192., 193., 191.],\n",
      "          [130., 128., 125.,  ..., 186., 189., 187.],\n",
      "          ...,\n",
      "          [126., 117., 112.,  ..., 165., 164., 166.],\n",
      "          [196., 187., 168.,  ..., 184., 185., 189.],\n",
      "          [194., 194., 189.,  ..., 174., 176., 179.]],\n",
      "\n",
      "         [[ 99., 106., 111.,  ..., 200., 203., 202.],\n",
      "          [104., 108., 111.,  ..., 200., 201., 199.],\n",
      "          [129., 127., 124.,  ..., 192., 195., 193.],\n",
      "          ...,\n",
      "          [136., 125., 120.,  ..., 160., 159., 161.],\n",
      "          [208., 196., 178.,  ..., 179., 180., 184.],\n",
      "          [206., 206., 198.,  ..., 169., 171., 174.]],\n",
      "\n",
      "         [[ 97., 104., 109.,  ..., 213., 216., 215.],\n",
      "          [102., 106., 109.,  ..., 213., 214., 212.],\n",
      "          [127., 125., 122.,  ..., 204., 207., 205.],\n",
      "          ...,\n",
      "          [146., 136., 131.,  ..., 157., 156., 158.],\n",
      "          [222., 211., 190.,  ..., 176., 177., 181.],\n",
      "          [222., 222., 213.,  ..., 166., 168., 171.]]],\n",
      "\n",
      "\n",
      "        [[[126., 125., 130.,  ...,  91.,  99., 106.],\n",
      "          [ 88.,  77.,  73.,  ..., 108., 112., 126.],\n",
      "          [ 75.,  76.,  85.,  ..., 123., 121., 138.],\n",
      "          ...,\n",
      "          [172., 177., 195.,  ..., 179., 193., 170.],\n",
      "          [183., 185., 188.,  ..., 180., 203., 188.],\n",
      "          [200., 188., 167.,  ..., 190., 195., 176.]],\n",
      "\n",
      "         [[124., 123., 128.,  ...,  92., 100., 107.],\n",
      "          [ 87.,  76.,  72.,  ..., 109., 113., 127.],\n",
      "          [ 74.,  75.,  84.,  ..., 122., 120., 137.],\n",
      "          ...,\n",
      "          [171., 176., 194.,  ..., 174., 188., 165.],\n",
      "          [182., 184., 187.,  ..., 175., 198., 183.],\n",
      "          [199., 187., 166.,  ..., 185., 190., 171.]],\n",
      "\n",
      "         [[129., 128., 133.,  ...,  97., 105., 112.],\n",
      "          [ 93.,  82.,  78.,  ..., 114., 118., 132.],\n",
      "          [ 82.,  83.,  90.,  ..., 127., 125., 142.],\n",
      "          ...,\n",
      "          [166., 171., 190.,  ..., 171., 185., 162.],\n",
      "          [177., 179., 183.,  ..., 172., 195., 180.],\n",
      "          [194., 182., 162.,  ..., 182., 187., 168.]]],\n",
      "\n",
      "\n",
      "        [[[112., 112., 112.,  ..., 226., 226., 226.],\n",
      "          [112., 112., 112.,  ..., 222., 222., 221.],\n",
      "          [112., 112., 112.,  ..., 218., 217., 217.],\n",
      "          ...,\n",
      "          [161., 162., 162.,  ..., 190., 187., 185.],\n",
      "          [158., 159., 161.,  ..., 181., 179., 176.],\n",
      "          [154., 156., 158.,  ..., 173., 171., 167.]],\n",
      "\n",
      "         [[ 86.,  86.,  86.,  ..., 150., 152., 155.],\n",
      "          [ 86.,  86.,  86.,  ..., 148., 150., 152.],\n",
      "          [ 86.,  86.,  86.,  ..., 145., 147., 148.],\n",
      "          ...,\n",
      "          [136., 137., 137.,  ..., 182., 179., 177.],\n",
      "          [133., 134., 136.,  ..., 173., 172., 169.],\n",
      "          [129., 131., 133.,  ..., 166., 164., 160.]],\n",
      "\n",
      "         [[ 59.,  59.,  59.,  ..., 114., 113., 113.],\n",
      "          [ 59.,  59.,  59.,  ..., 113., 112., 111.],\n",
      "          [ 59.,  59.,  59.,  ..., 113., 111., 109.],\n",
      "          ...,\n",
      "          [ 96.,  97.,  97.,  ..., 179., 176., 174.],\n",
      "          [ 93.,  94.,  96.,  ..., 170., 166., 163.],\n",
      "          [ 89.,  91.,  93.,  ..., 160., 158., 154.]]]])\n"
     ]
    }
   ],
   "source": [
    "batch = batch.float()\n",
    "print(batch)\n",
    "batch /= 255.0"
   ]
  },
  {
   "cell_type": "code",
   "execution_count": 8,
   "id": "51374ab8",
   "metadata": {
    "scrolled": true
   },
   "outputs": [
    {
     "name": "stdout",
     "output_type": "stream",
     "text": [
      "torch.Size([3, 3, 256, 256])\n",
      "tensor([[[[0.3922, 0.4196, 0.4392,  ..., 0.7529, 0.7647, 0.7608],\n",
      "          [0.4118, 0.4275, 0.4392,  ..., 0.7529, 0.7569, 0.7490],\n",
      "          [0.5098, 0.5020, 0.4902,  ..., 0.7294, 0.7412, 0.7333],\n",
      "          ...,\n",
      "          [0.4941, 0.4588, 0.4392,  ..., 0.6471, 0.6431, 0.6510],\n",
      "          [0.7686, 0.7333, 0.6588,  ..., 0.7216, 0.7255, 0.7412],\n",
      "          [0.7608, 0.7608, 0.7412,  ..., 0.6824, 0.6902, 0.7020]],\n",
      "\n",
      "         [[0.3882, 0.4157, 0.4353,  ..., 0.7843, 0.7961, 0.7922],\n",
      "          [0.4078, 0.4235, 0.4353,  ..., 0.7843, 0.7882, 0.7804],\n",
      "          [0.5059, 0.4980, 0.4863,  ..., 0.7529, 0.7647, 0.7569],\n",
      "          ...,\n",
      "          [0.5333, 0.4902, 0.4706,  ..., 0.6275, 0.6235, 0.6314],\n",
      "          [0.8157, 0.7686, 0.6980,  ..., 0.7020, 0.7059, 0.7216],\n",
      "          [0.8078, 0.8078, 0.7765,  ..., 0.6627, 0.6706, 0.6824]],\n",
      "\n",
      "         [[0.3804, 0.4078, 0.4275,  ..., 0.8353, 0.8471, 0.8431],\n",
      "          [0.4000, 0.4157, 0.4275,  ..., 0.8353, 0.8392, 0.8314],\n",
      "          [0.4980, 0.4902, 0.4784,  ..., 0.8000, 0.8118, 0.8039],\n",
      "          ...,\n",
      "          [0.5725, 0.5333, 0.5137,  ..., 0.6157, 0.6118, 0.6196],\n",
      "          [0.8706, 0.8275, 0.7451,  ..., 0.6902, 0.6941, 0.7098],\n",
      "          [0.8706, 0.8706, 0.8353,  ..., 0.6510, 0.6588, 0.6706]]],\n",
      "\n",
      "\n",
      "        [[[0.4941, 0.4902, 0.5098,  ..., 0.3569, 0.3882, 0.4157],\n",
      "          [0.3451, 0.3020, 0.2863,  ..., 0.4235, 0.4392, 0.4941],\n",
      "          [0.2941, 0.2980, 0.3333,  ..., 0.4824, 0.4745, 0.5412],\n",
      "          ...,\n",
      "          [0.6745, 0.6941, 0.7647,  ..., 0.7020, 0.7569, 0.6667],\n",
      "          [0.7176, 0.7255, 0.7373,  ..., 0.7059, 0.7961, 0.7373],\n",
      "          [0.7843, 0.7373, 0.6549,  ..., 0.7451, 0.7647, 0.6902]],\n",
      "\n",
      "         [[0.4863, 0.4824, 0.5020,  ..., 0.3608, 0.3922, 0.4196],\n",
      "          [0.3412, 0.2980, 0.2824,  ..., 0.4275, 0.4431, 0.4980],\n",
      "          [0.2902, 0.2941, 0.3294,  ..., 0.4784, 0.4706, 0.5373],\n",
      "          ...,\n",
      "          [0.6706, 0.6902, 0.7608,  ..., 0.6824, 0.7373, 0.6471],\n",
      "          [0.7137, 0.7216, 0.7333,  ..., 0.6863, 0.7765, 0.7176],\n",
      "          [0.7804, 0.7333, 0.6510,  ..., 0.7255, 0.7451, 0.6706]],\n",
      "\n",
      "         [[0.5059, 0.5020, 0.5216,  ..., 0.3804, 0.4118, 0.4392],\n",
      "          [0.3647, 0.3216, 0.3059,  ..., 0.4471, 0.4627, 0.5176],\n",
      "          [0.3216, 0.3255, 0.3529,  ..., 0.4980, 0.4902, 0.5569],\n",
      "          ...,\n",
      "          [0.6510, 0.6706, 0.7451,  ..., 0.6706, 0.7255, 0.6353],\n",
      "          [0.6941, 0.7020, 0.7176,  ..., 0.6745, 0.7647, 0.7059],\n",
      "          [0.7608, 0.7137, 0.6353,  ..., 0.7137, 0.7333, 0.6588]]],\n",
      "\n",
      "\n",
      "        [[[0.4392, 0.4392, 0.4392,  ..., 0.8863, 0.8863, 0.8863],\n",
      "          [0.4392, 0.4392, 0.4392,  ..., 0.8706, 0.8706, 0.8667],\n",
      "          [0.4392, 0.4392, 0.4392,  ..., 0.8549, 0.8510, 0.8510],\n",
      "          ...,\n",
      "          [0.6314, 0.6353, 0.6353,  ..., 0.7451, 0.7333, 0.7255],\n",
      "          [0.6196, 0.6235, 0.6314,  ..., 0.7098, 0.7020, 0.6902],\n",
      "          [0.6039, 0.6118, 0.6196,  ..., 0.6784, 0.6706, 0.6549]],\n",
      "\n",
      "         [[0.3373, 0.3373, 0.3373,  ..., 0.5882, 0.5961, 0.6078],\n",
      "          [0.3373, 0.3373, 0.3373,  ..., 0.5804, 0.5882, 0.5961],\n",
      "          [0.3373, 0.3373, 0.3373,  ..., 0.5686, 0.5765, 0.5804],\n",
      "          ...,\n",
      "          [0.5333, 0.5373, 0.5373,  ..., 0.7137, 0.7020, 0.6941],\n",
      "          [0.5216, 0.5255, 0.5333,  ..., 0.6784, 0.6745, 0.6627],\n",
      "          [0.5059, 0.5137, 0.5216,  ..., 0.6510, 0.6431, 0.6275]],\n",
      "\n",
      "         [[0.2314, 0.2314, 0.2314,  ..., 0.4471, 0.4431, 0.4431],\n",
      "          [0.2314, 0.2314, 0.2314,  ..., 0.4431, 0.4392, 0.4353],\n",
      "          [0.2314, 0.2314, 0.2314,  ..., 0.4431, 0.4353, 0.4275],\n",
      "          ...,\n",
      "          [0.3765, 0.3804, 0.3804,  ..., 0.7020, 0.6902, 0.6824],\n",
      "          [0.3647, 0.3686, 0.3765,  ..., 0.6667, 0.6510, 0.6392],\n",
      "          [0.3490, 0.3569, 0.3647,  ..., 0.6275, 0.6196, 0.6039]]]])\n"
     ]
    }
   ],
   "source": [
    "print(batch.shape)\n",
    "print(batch)"
   ]
  },
  {
   "cell_type": "code",
   "execution_count": 9,
   "id": "62edd04d",
   "metadata": {},
   "outputs": [
    {
     "name": "stdout",
     "output_type": "stream",
     "text": [
      "3\n"
     ]
    }
   ],
   "source": [
    "n_channels = batch.shape[1]\n",
    "print(n_channels)\n",
    "for c in range(n_channels):\n",
    "    mean = torch.mean(batch[:, c])\n",
    "    std = torch.std(batch[:, c])\n",
    "    batch[:, c] = (batch[:, c] - mean) / std"
   ]
  },
  {
   "cell_type": "markdown",
   "id": "55606cc7",
   "metadata": {},
   "source": [
    "## CT Image (format == DICOM)"
   ]
  },
  {
   "cell_type": "code",
   "execution_count": 10,
   "id": "a1916393",
   "metadata": {
    "scrolled": true
   },
   "outputs": [
    {
     "name": "stdout",
     "output_type": "stream",
     "text": [
      "Reading DICOM (examining files): 1/99 files (1.0%22/99 files (22.2%43/99 files (43.4%64/99 files (64.6%85/99 files (85.9%99/99 files (100.0%)\n",
      "  Found 1 correct series.\n",
      "Reading DICOM (loading data): 47/99  (47.597/99  (98.099/99  (100.0%)\n"
     ]
    },
    {
     "data": {
      "text/plain": [
       "(99, 512, 512)"
      ]
     },
     "execution_count": 10,
     "metadata": {},
     "output_type": "execute_result"
    }
   ],
   "source": [
    "import imageio\n",
    "\n",
    "dir_path = \".\\\\LUNG_img\"\n",
    "vol_arr = imageio.volread(dir_path, 'DICOM')\n",
    "vol_arr.shape"
   ]
  },
  {
   "cell_type": "code",
   "execution_count": 11,
   "id": "0c730892",
   "metadata": {
    "scrolled": true
   },
   "outputs": [
    {
     "data": {
      "text/plain": [
       "torch.Size([1, 99, 512, 512])"
      ]
     },
     "execution_count": 11,
     "metadata": {},
     "output_type": "execute_result"
    }
   ],
   "source": [
    "vol = torch.from_numpy(vol_arr).float()\n",
    "vol = torch.unsqueeze(vol, 0)\n",
    "\n",
    "vol.shape"
   ]
  },
  {
   "cell_type": "markdown",
   "id": "1dd29f65",
   "metadata": {},
   "source": [
    "## Wine Quality Data (format == CSV)"
   ]
  },
  {
   "cell_type": "code",
   "execution_count": 12,
   "id": "24a264a6",
   "metadata": {},
   "outputs": [],
   "source": [
    "import csv\n",
    "import numpy as np"
   ]
  },
  {
   "cell_type": "code",
   "execution_count": 13,
   "id": "0a9661b9",
   "metadata": {
    "scrolled": true
   },
   "outputs": [
    {
     "data": {
      "text/plain": [
       "array([[ 7.  ,  0.27,  0.36, ...,  0.45,  8.8 ,  6.  ],\n",
       "       [ 6.3 ,  0.3 ,  0.34, ...,  0.49,  9.5 ,  6.  ],\n",
       "       [ 8.1 ,  0.28,  0.4 , ...,  0.44, 10.1 ,  6.  ],\n",
       "       ...,\n",
       "       [ 6.5 ,  0.24,  0.19, ...,  0.46,  9.4 ,  6.  ],\n",
       "       [ 5.5 ,  0.29,  0.3 , ...,  0.38, 12.8 ,  7.  ],\n",
       "       [ 6.  ,  0.21,  0.38, ...,  0.32, 11.8 ,  6.  ]], dtype=float32)"
      ]
     },
     "execution_count": 13,
     "metadata": {},
     "output_type": "execute_result"
    }
   ],
   "source": [
    "wine_path = \".\\\\wine_quality\\\\wine_quality.csv\"\n",
    "wine_numpy = np.loadtxt(wine_path, dtype = np.float32, delimiter = ';', skiprows=1)\n",
    "\n",
    "wine_numpy"
   ]
  },
  {
   "cell_type": "code",
   "execution_count": 14,
   "id": "c4b592bc",
   "metadata": {
    "scrolled": true
   },
   "outputs": [
    {
     "data": {
      "text/plain": [
       "((4898, 12),\n",
       " ['fixed acidity',\n",
       "  'volatile acidity',\n",
       "  'citric acid',\n",
       "  'residual sugar',\n",
       "  'chlorides',\n",
       "  'free sulfur dioxide',\n",
       "  'total sulfur dioxide',\n",
       "  'density',\n",
       "  'pH',\n",
       "  'sulphates',\n",
       "  'alcohol',\n",
       "  'quality'])"
      ]
     },
     "execution_count": 14,
     "metadata": {},
     "output_type": "execute_result"
    }
   ],
   "source": [
    "col_list = next(csv.reader(open(wine_path), delimiter=\";\"))\n",
    "\n",
    "wine_numpy.shape, col_list"
   ]
  },
  {
   "cell_type": "code",
   "execution_count": 15,
   "id": "0232809c",
   "metadata": {
    "scrolled": true
   },
   "outputs": [
    {
     "data": {
      "text/plain": [
       "(torch.Size([4898, 12]), torch.float32)"
      ]
     },
     "execution_count": 15,
     "metadata": {},
     "output_type": "execute_result"
    }
   ],
   "source": [
    "wine_q = torch.from_numpy(wine_numpy)\n",
    "wine_q.shape, wine_q.dtype"
   ]
  },
  {
   "cell_type": "code",
   "execution_count": 16,
   "id": "3aa2fc5b",
   "metadata": {
    "scrolled": true
   },
   "outputs": [
    {
     "data": {
      "text/plain": [
       "(tensor([[ 7.0000,  0.2700,  0.3600,  ...,  3.0000,  0.4500,  8.8000],\n",
       "         [ 6.3000,  0.3000,  0.3400,  ...,  3.3000,  0.4900,  9.5000],\n",
       "         [ 8.1000,  0.2800,  0.4000,  ...,  3.2600,  0.4400, 10.1000],\n",
       "         ...,\n",
       "         [ 6.5000,  0.2400,  0.1900,  ...,  2.9900,  0.4600,  9.4000],\n",
       "         [ 5.5000,  0.2900,  0.3000,  ...,  3.3400,  0.3800, 12.8000],\n",
       "         [ 6.0000,  0.2100,  0.3800,  ...,  3.2600,  0.3200, 11.8000]]),\n",
       " torch.Size([4898, 11]))"
      ]
     },
     "execution_count": 16,
     "metadata": {},
     "output_type": "execute_result"
    }
   ],
   "source": [
    "data = wine_q[:, :-1]\n",
    "data, data.shape"
   ]
  },
  {
   "cell_type": "code",
   "execution_count": 17,
   "id": "afbbf459",
   "metadata": {
    "scrolled": true
   },
   "outputs": [
    {
     "data": {
      "text/plain": [
       "(tensor([6., 6., 6.,  ..., 6., 7., 6.]), torch.Size([4898]))"
      ]
     },
     "execution_count": 17,
     "metadata": {},
     "output_type": "execute_result"
    }
   ],
   "source": [
    "target = wine_q[:, -1]\n",
    "target, target.shape"
   ]
  },
  {
   "cell_type": "markdown",
   "id": "d631a6ea",
   "metadata": {},
   "source": [
    "## target value preprocess -> Case 1) Convert to Int"
   ]
  },
  {
   "cell_type": "code",
   "execution_count": 18,
   "id": "a698cb03",
   "metadata": {},
   "outputs": [
    {
     "data": {
      "text/plain": [
       "(tensor([6, 6, 6,  ..., 6, 7, 6]), torch.Size([4898]))"
      ]
     },
     "execution_count": 18,
     "metadata": {},
     "output_type": "execute_result"
    }
   ],
   "source": [
    "target = wine_q[:, -1].long()\n",
    "target, target.shape"
   ]
  },
  {
   "cell_type": "code",
   "execution_count": 19,
   "id": "e33e9918",
   "metadata": {},
   "outputs": [
    {
     "data": {
      "text/plain": [
       "(tensor([[6],\n",
       "         [6],\n",
       "         [6],\n",
       "         ...,\n",
       "         [6],\n",
       "         [7],\n",
       "         [6]]),\n",
       " torch.Size([4898, 1]))"
      ]
     },
     "execution_count": 19,
     "metadata": {},
     "output_type": "execute_result"
    }
   ],
   "source": [
    "target_unsqueezed = target.unsqueeze(1)\n",
    "target_unsqueezed, target_unsqueezed.shape"
   ]
  },
  {
   "cell_type": "markdown",
   "id": "10b7facb",
   "metadata": {},
   "source": [
    "## target value preprocess -> Case 2) One-hot Encoding"
   ]
  },
  {
   "cell_type": "code",
   "execution_count": 20,
   "id": "b46ce00d",
   "metadata": {
    "scrolled": false
   },
   "outputs": [
    {
     "data": {
      "text/plain": [
       "(tensor([[0., 0., 0.,  ..., 0., 0., 0.],\n",
       "         [0., 0., 0.,  ..., 0., 0., 0.],\n",
       "         [0., 0., 0.,  ..., 0., 0., 0.],\n",
       "         ...,\n",
       "         [0., 0., 0.,  ..., 0., 0., 0.],\n",
       "         [0., 0., 0.,  ..., 1., 0., 0.],\n",
       "         [0., 0., 0.,  ..., 0., 0., 0.]]),\n",
       " torch.Size([4898, 10]))"
      ]
     },
     "execution_count": 20,
     "metadata": {},
     "output_type": "execute_result"
    }
   ],
   "source": [
    "target_onehot = torch.zeros(target.shape[0], 10)\n",
    "target_onehot.scatter_(1, target.unsqueeze(1), 1.0), target_onehot.shape"
   ]
  },
  {
   "cell_type": "markdown",
   "id": "6ee4ded2",
   "metadata": {},
   "source": [
    "## Data Normalization"
   ]
  },
  {
   "cell_type": "code",
   "execution_count": 21,
   "id": "e7d3b046",
   "metadata": {},
   "outputs": [
    {
     "data": {
      "text/plain": [
       "(tensor([6.8548e+00, 2.7824e-01, 3.3419e-01, 6.3914e+00, 4.5772e-02, 3.5308e+01,\n",
       "         1.3836e+02, 9.9403e-01, 3.1883e+00, 4.8985e-01, 1.0514e+01]),\n",
       " torch.Size([11]))"
      ]
     },
     "execution_count": 21,
     "metadata": {},
     "output_type": "execute_result"
    }
   ],
   "source": [
    "data_mean = torch.mean(data ,dim = 0)\n",
    "data_mean, data_mean.shape"
   ]
  },
  {
   "cell_type": "code",
   "execution_count": 22,
   "id": "d0e50e42",
   "metadata": {},
   "outputs": [
    {
     "data": {
      "text/plain": [
       "(tensor([7.1211e-01, 1.0160e-02, 1.4646e-02, 2.5726e+01, 4.7733e-04, 2.8924e+02,\n",
       "         1.8061e+03, 8.9455e-06, 2.2801e-02, 1.3025e-02, 1.5144e+00]),\n",
       " torch.Size([11]))"
      ]
     },
     "execution_count": 22,
     "metadata": {},
     "output_type": "execute_result"
    }
   ],
   "source": [
    "data_var = torch.var(data, dim = 0)\n",
    "data_var, data_var.shape"
   ]
  },
  {
   "cell_type": "code",
   "execution_count": 23,
   "id": "80f300ad",
   "metadata": {
    "scrolled": true
   },
   "outputs": [
    {
     "data": {
      "text/plain": [
       "(tensor([[ 1.7208e-01, -8.1761e-02,  2.1326e-01,  ..., -1.2468e+00,\n",
       "          -3.4915e-01, -1.3930e+00],\n",
       "         [-6.5743e-01,  2.1587e-01,  4.7996e-02,  ...,  7.3995e-01,\n",
       "           1.3422e-03, -8.2419e-01],\n",
       "         [ 1.4756e+00,  1.7450e-02,  5.4378e-01,  ...,  4.7505e-01,\n",
       "          -4.3677e-01, -3.3663e-01],\n",
       "         ...,\n",
       "         [-4.2043e-01, -3.7940e-01, -1.1915e+00,  ..., -1.3130e+00,\n",
       "          -2.6153e-01, -9.0545e-01],\n",
       "         [-1.6054e+00,  1.1666e-01, -2.8253e-01,  ...,  1.0049e+00,\n",
       "          -9.6251e-01,  1.8574e+00],\n",
       "         [-1.0129e+00, -6.7703e-01,  3.7852e-01,  ...,  4.7505e-01,\n",
       "          -1.4882e+00,  1.0448e+00]]),\n",
       " torch.Size([4898, 11]))"
      ]
     },
     "execution_count": 23,
     "metadata": {},
     "output_type": "execute_result"
    }
   ],
   "source": [
    "data_normalized = (data - data_mean) / torch.sqrt(data_var)\n",
    "data_normalized, data_normalized.shape"
   ]
  },
  {
   "cell_type": "markdown",
   "id": "574ef675",
   "metadata": {},
   "source": [
    "## Threshold designate"
   ]
  },
  {
   "cell_type": "code",
   "execution_count": 24,
   "id": "c5e7b1f5",
   "metadata": {},
   "outputs": [
    {
     "data": {
      "text/plain": [
       "(torch.Size([4898]), torch.bool, tensor(20))"
      ]
     },
     "execution_count": 24,
     "metadata": {},
     "output_type": "execute_result"
    }
   ],
   "source": [
    "bad_indexes = target <= 3\n",
    "bad_indexes.shape, bad_indexes.dtype, bad_indexes.sum()"
   ]
  },
  {
   "cell_type": "code",
   "execution_count": 25,
   "id": "9cd87387",
   "metadata": {},
   "outputs": [
    {
     "data": {
      "text/plain": [
       "torch.Size([20, 11])"
      ]
     },
     "execution_count": 25,
     "metadata": {},
     "output_type": "execute_result"
    }
   ],
   "source": [
    "bad_data = data[bad_indexes]\n",
    "bad_data.shape"
   ]
  },
  {
   "cell_type": "code",
   "execution_count": 26,
   "id": "252df800",
   "metadata": {
    "scrolled": true
   },
   "outputs": [
    {
     "name": "stdout",
     "output_type": "stream",
     "text": [
      " 0 fixed acidity          7.60,   6.89   6.73\n",
      " 1 volatile acidity       0.33,   0.28   0.27\n",
      " 2 citric acid            0.34,   0.34   0.33\n",
      " 3 residual sugar         6.39,   6.71   5.26\n",
      " 4 chlorides              0.05,   0.05   0.04\n",
      " 5 free sulfur dioxide   53.33,  35.42  34.55\n",
      " 6 total sulfur dioxide 170.60, 141.83 125.25\n",
      " 7 density                0.99,   0.99   0.99\n",
      " 8 pH                     3.19,   3.18   3.22\n",
      " 9 sulphates              0.47,   0.49   0.50\n",
      "10 alcohol               10.34,  10.26  11.42\n"
     ]
    }
   ],
   "source": [
    "bad_data = data[target <= 3]\n",
    "mid_data = data[(target > 3) & (target < 7)]\n",
    "good_data = data[target >= 7]\n",
    "\n",
    "bad_mean = torch.mean(bad_data, dim = 0)\n",
    "mid_mean = torch.mean(mid_data, dim = 0)\n",
    "good_mean = torch.mean(good_data, dim = 0)\n",
    "\n",
    "for i, args in enumerate(zip(col_list, bad_mean, mid_mean, good_mean)):\n",
    "    print('{:2} {:20} {:6.2f}, {:6.2f} {:6.2f}'.format(i, *args))"
   ]
  },
  {
   "cell_type": "code",
   "execution_count": 27,
   "id": "a2697765",
   "metadata": {},
   "outputs": [
    {
     "data": {
      "text/plain": [
       "(torch.Size([4898]), torch.bool, tensor(2727))"
      ]
     },
     "execution_count": 27,
     "metadata": {},
     "output_type": "execute_result"
    }
   ],
   "source": [
    "total_sulfur_threshold = 141.83\n",
    "total_sulfur_data = data[:, 6]\n",
    "predicted_indexes = torch.lt(total_sulfur_data, total_sulfur_threshold)\n",
    "\n",
    "predicted_indexes.shape, predicted_indexes.dtype, predicted_indexes.sum()"
   ]
  },
  {
   "cell_type": "code",
   "execution_count": 28,
   "id": "17163f5e",
   "metadata": {},
   "outputs": [
    {
     "data": {
      "text/plain": [
       "(torch.Size([4898]), torch.bool, tensor(3258))"
      ]
     },
     "execution_count": 28,
     "metadata": {},
     "output_type": "execute_result"
    }
   ],
   "source": [
    "actual_indexs = target > 5\n",
    "actual_indexs.shape, actual_indexs.dtype, actual_indexs.sum()"
   ]
  },
  {
   "cell_type": "code",
   "execution_count": 29,
   "id": "e166573b",
   "metadata": {},
   "outputs": [
    {
     "data": {
      "text/plain": [
       "(2018, 0.74000733406674, 0.6193984039287906)"
      ]
     },
     "execution_count": 29,
     "metadata": {},
     "output_type": "execute_result"
    }
   ],
   "source": [
    "n_matches = torch.sum(actual_indexs & predicted_indexes).item()\n",
    "n_predicted = torch.sum(predicted_indexes).item()\n",
    "n_actual = torch.sum(actual_indexs).item()\n",
    "\n",
    "n_matches, n_matches / n_predicted, n_matches  / n_actual"
   ]
  }
 ],
 "metadata": {
  "kernelspec": {
   "display_name": "Python 3 (ipykernel)",
   "language": "python",
   "name": "python3"
  },
  "language_info": {
   "codemirror_mode": {
    "name": "ipython",
    "version": 3
   },
   "file_extension": ".py",
   "mimetype": "text/x-python",
   "name": "python",
   "nbconvert_exporter": "python",
   "pygments_lexer": "ipython3",
   "version": "3.8.5"
  }
 },
 "nbformat": 4,
 "nbformat_minor": 5
}
